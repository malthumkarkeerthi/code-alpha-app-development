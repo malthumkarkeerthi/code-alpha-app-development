{
 "cells": [
  {
   "cell_type": "code",
   "execution_count": 1,
   "id": "d81030f8",
   "metadata": {},
   "outputs": [],
   "source": [
    "import http.client as ht \n",
    "  \n",
    "conn = ht.HTTPSConnection(\"api.msg91.com\") "
   ]
  },
  {
   "cell_type": "code",
   "execution_count": 2,
   "id": "f8c49258",
   "metadata": {},
   "outputs": [],
   "source": [
    "\n",
    "headers = {# Paste your MSG91 API Key \n",
    "           'authkey' : \"\",  \n",
    "           'content-type': \"application/json\"} "
   ]
  },
  {
   "cell_type": "code",
   "execution_count": 3,
   "id": "535d3454",
   "metadata": {},
   "outputs": [],
   "source": [
    "payload = '''{\"sender\": \"MSGAPI\", \n",
    "              \"route\": \"4\", \n",
    "              \"country\": \"91\", \n",
    "              \"sms\": [ \n",
    "                { \n",
    "                  \"message\": \"Welcome X, Today you have PC class\", \n",
    "                  \"to\": [ \n",
    "                    \"9090XX8921\" \n",
    "                  ] \n",
    "                }, \n",
    "                { \n",
    "                  \"message\": \"Welcome Y, Today you have WT Class\", \n",
    "                  \"to\": [ \n",
    "                    \"901X83XX01\" \n",
    "                  ] \n",
    "                } \n",
    "              ] \n",
    "            }'''"
   ]
  },
  {
   "cell_type": "code",
   "execution_count": 16,
   "id": "7c808d91",
   "metadata": {},
   "outputs": [],
   "source": [
    "import http.client as ht \n",
    "  \n",
    "# establishing connection \n",
    "conn = ht.HTTPSConnection(\"api.msg91.com\") \n",
    "  \n",
    "# determining the payload \n",
    "payload = '''{\"sender\": \"MSGAPI\", \n",
    "              \"route\": \"4\", \n",
    "              \"country\": \"91\", \n",
    "              \"sms\": [ \n",
    "                { \n",
    "                  \"message\": \"Welcome students, Today you have PC class\", \n",
    "                  \"to\": [ \n",
    "                    \"9090XX8921\" \n",
    "                  ] \n",
    "                }, \n",
    "              ] \n",
    "            }'''\n",
    "  \n",
    "# creating the header \n",
    "headers = { \n",
    "    'authkey': \"\",  \n",
    "    'content-type': \"application / json\"\n",
    "} \n",
    "  \n",
    "# sending the connection request \n",
    "data=payload\n",
    "\n",
    "\n",
    "  \n"
   ]
  },
  {
   "cell_type": "code",
   "execution_count": null,
   "id": "bc0d4de9",
   "metadata": {},
   "outputs": [],
   "source": []
  }
 ],
 "metadata": {
  "kernelspec": {
   "display_name": "Python 3 (ipykernel)",
   "language": "python",
   "name": "python3"
  },
  "language_info": {
   "codemirror_mode": {
    "name": "ipython",
    "version": 3
   },
   "file_extension": ".py",
   "mimetype": "text/x-python",
   "name": "python",
   "nbconvert_exporter": "python",
   "pygments_lexer": "ipython3",
   "version": "3.9.13"
  }
 },
 "nbformat": 4,
 "nbformat_minor": 5
}
